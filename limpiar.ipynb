{
 "cells": [
  {
   "cell_type": "code",
   "execution_count": 85,
   "metadata": {
    "collapsed": false
   },
   "outputs": [
    {
     "name": "stdout",
     "output_type": "stream",
     "text": [
      "Cargando datos de \"datos/Base datos_INTA_ascii.csv\"\n",
      "Cargado dataframe de tamaño 423 x 44\n"
     ]
    }
   ],
   "source": [
    "CSV_IN = 'datos/Base datos_INTA_ascii.csv'\n",
    "CSV_OUT = CSV_IN.replace('.csv', '_limpio.csv')\n",
    "\n",
    "print 'Cargando datos de \"%s\"' % CSV_IN\n",
    "df = pd.read_csv(CSV_IN)\n",
    "print 'Cargado dataframe de tamaño %d x %d' % df.shape\n",
    "# df.head()"
   ]
  },
  {
   "cell_type": "code",
   "execution_count": 86,
   "metadata": {
    "collapsed": true
   },
   "outputs": [],
   "source": [
    "def guardar():\n",
    "    df.to_csv(CSV_OUT, index=None)"
   ]
  },
  {
   "cell_type": "code",
   "execution_count": 87,
   "metadata": {
    "collapsed": false
   },
   "outputs": [],
   "source": [
    "cols = list(df.columns)\n",
    "for c in cols:\n",
    "    if c.startswith('Unnamed'):\n",
    "        df = df.drop(c, axis=1)\n",
    "guardar()\n",
    "# for c in df.columns: print c"
   ]
  },
  {
   "cell_type": "code",
   "execution_count": 88,
   "metadata": {
    "collapsed": false
   },
   "outputs": [],
   "source": [
    "# Convertir los valores de Campana de \"0708\" a algo mas intuitivo\n",
    "def convertir_campana(num):\n",
    "    if pd.isnull(num):\n",
    "        return np.nan\n",
    "    return 2000 + int(num % 100)\n",
    "#     return datetime.date(2000 + int(num % 100), 1, 1)\n",
    "#     return '%d-%d' % (2000 + int(num / 100), 2000 + int(num % 100))\n",
    "\n",
    "df['Campana'] = df['Campana'].apply(convertir_campana)\n",
    "guardar()"
   ]
  },
  {
   "cell_type": "code",
   "execution_count": 89,
   "metadata": {
    "collapsed": false
   },
   "outputs": [],
   "source": [
    "# Convertir los nombres de columnos a minisculas\n",
    "def limpiar_nombre_de_columno(col):\n",
    "    col = col.lower().replace('%', 'pct')\n",
    "    col = ''.join([ch if (ch.isalnum() or ch == '_') else '_' for ch in col])\n",
    "    while '__' in col:\n",
    "        col = col.replace('__', '_')\n",
    "    col = col.strip('_').strip()\n",
    "    return col\n",
    "\n",
    "df.columns = [limpiar_nombre_de_columno(c) for c in df.columns]\n",
    "guardar()\n",
    "# for c in df.columns: print c"
   ]
  },
  {
   "cell_type": "code",
   "execution_count": 90,
   "metadata": {
    "collapsed": false
   },
   "outputs": [],
   "source": [
    "columnos_innecesarios = [\n",
    "    'empresa', 'establecimiento', 'lote',\n",
    "    'aporte_elemento_n_kg_ha',\n",
    "    'aporte_elemento_k_kg_ha',\n",
    "    'aporte_elemento_p_kg_ha']\n",
    "# ******************************************************\n",
    "# ******************************************************\n",
    "# ********** BUEN EJEMPLO ******************************\n",
    "# ******************************************************\n",
    "# ******************************************************\n",
    "columnos_con_demasiado_na = ['fert_cober_clk_fecha']\n",
    "df = df.drop(columnos_innecesarios + columnos_con_demasiado_na, axis=1)\n",
    "guardar()"
   ]
  },
  {
   "cell_type": "code",
   "execution_count": 91,
   "metadata": {
    "collapsed": false
   },
   "outputs": [
    {
     "name": "stdout",
     "output_type": "stream",
     "text": [
      "Cambiando 38 (8%) valores invalidas de \"fenologia_emerg_cosecha_dias\" a NA\n",
      "Cambiando 38 (8%) valores invalidas de \"rinde_con_factor_kg_ha\" a NA\n",
      "Cambiando 0 (0%) valores invalidas de \"superficie_sembrada_has\" a NA\n"
     ]
    },
    {
     "name": "stderr",
     "output_type": "stream",
     "text": [
      "/Library/Python/2.7/site-packages/IPython/kernel/__main__.py:10: SettingWithCopyWarning: \n",
      "A value is trying to be set on a copy of a slice from a DataFrame\n",
      "\n",
      "See the the caveats in the documentation: http://pandas.pydata.org/pandas-docs/stable/indexing.html#indexing-view-versus-copy\n"
     ]
    }
   ],
   "source": [
    "positivos = ['fenologia_emerg_cosecha_dias',\n",
    "             'rinde_con_factor_kg_ha',\n",
    "             'superficie_sembrada_has']\n",
    "#              'fert_cober_preriego_cant_n_kg_ha']\n",
    "for c in positivos:\n",
    "    invalidos = df[c] <= 0\n",
    "    n = invalidos.sum()\n",
    "    print 'Cambiando %d (%.0f%%) valores invalidas de \"%s\" a NA' % (\n",
    "        n, 100 * n / len(df), c)\n",
    "    df[c][invalidos] = np.nan\n",
    "guardar()"
   ]
  },
  {
   "cell_type": "code",
   "execution_count": 92,
   "metadata": {
    "collapsed": false
   },
   "outputs": [
    {
     "name": "stderr",
     "output_type": "stream",
     "text": [
      "/Library/Python/2.7/site-packages/IPython/kernel/__main__.py:1: SettingWithCopyWarning: \n",
      "A value is trying to be set on a copy of a slice from a DataFrame\n",
      "\n",
      "See the the caveats in the documentation: http://pandas.pydata.org/pandas-docs/stable/indexing.html#indexing-view-versus-copy\n",
      "  if __name__ == '__main__':\n"
     ]
    }
   ],
   "source": [
    "df['riego_velocidad_dias'][df['riego_velocidad_dias'] >= 30] = np.nan\n",
    "guardar()"
   ]
  },
  {
   "cell_type": "code",
   "execution_count": 93,
   "metadata": {
    "collapsed": true
   },
   "outputs": [],
   "source": [
    "# Algunos porcentajes fueron entrados commo decimal,\n",
    "# por ejemplo 0.20 en ves de 20 para 20%\n",
    "# ******************************************************\n",
    "# ******************************************************\n",
    "# ********** BUEN EJEMPLO ******************************\n",
    "# ******************************************************\n",
    "# ******************************************************\n",
    "df['factor_rend_pcthcosecha'] = df['factor_rend_pcthcosecha'].apply(\n",
    "    lambda pct: pct * 100 if pct < 1 else pct)\n",
    "guardar()"
   ]
  },
  {
   "cell_type": "code",
   "execution_count": 94,
   "metadata": {
    "collapsed": true
   },
   "outputs": [],
   "source": [
    "df['sistema_laboreo'] = df['sistema_laboreo'].apply(lambda s: s.strip())\n",
    "guardar()"
   ]
  },
  {
   "cell_type": "code",
   "execution_count": 95,
   "metadata": {
    "collapsed": false
   },
   "outputs": [],
   "source": [
    "# ******************************************************\n",
    "# ******************************************************\n",
    "# ********** BUEN EJEMPLO ******************************\n",
    "# ******************************************************\n",
    "# ******************************************************\n",
    "# print df['cultivo_antecesor'].value_counts().sort_index()\n",
    "\n",
    "# Correjir duplicadas de string que resultan del may/minisculas\n",
    "def lower(s):\n",
    "    try:\n",
    "        return s.lower()\n",
    "    except AttributeError:\n",
    "        return s\n",
    "for col, dtype in df.dtypes.iteritems():\n",
    "    if dtype == 'O':\n",
    "        df[col] = df[col].apply(lower)\n",
    "\n",
    "# print\n",
    "# print df['cultivo_antecesor'].value_counts().sort_index()\n",
    "guardar()"
   ]
  },
  {
   "cell_type": "code",
   "execution_count": 96,
   "metadata": {
    "collapsed": false
   },
   "outputs": [],
   "source": [
    "df['superficie_has'] = df['superficie_sembrada_has']\n",
    "df = df.drop(['superficie_sembrada_has', 'superficie_cosechada_has'], axis=1)\n",
    "guardar()"
   ]
  },
  {
   "cell_type": "code",
   "execution_count": 97,
   "metadata": {
    "collapsed": false
   },
   "outputs": [
    {
     "name": "stdout",
     "output_type": "stream",
     "text": [
      "fenologia_siembra_fecha\n",
      "fenologia_emergencia_70pct_fecha\n",
      "fert_cober_preriego_fecha\n",
      "fert_cober_dpf_fecha\n",
      "fenologia_dpf_fecha\n",
      "riego_inicio_fecha\n",
      "riego_chacra_completa_fecha\n",
      "fenologia_flor_50pct_fecha\n",
      "riego_finalizacion_fecha\n",
      "fenologia_cosecha_fecha\n"
     ]
    }
   ],
   "source": [
    "for c in df.columns:\n",
    "    if 'fecha' in c:\n",
    "        print c\n",
    "        df[c] = pd.to_datetime(df[c]).astype('datetime64[ns]')\n",
    "guardar()"
   ]
  },
  {
   "cell_type": "code",
   "execution_count": 98,
   "metadata": {
    "collapsed": false
   },
   "outputs": [
    {
     "data": {
      "text/plain": [
       "media 150-250        38\n",
       "media : 250 a 350    25\n",
       "baja : - 250         18\n",
       "100-154               1\n",
       "dtype: int64"
      ]
     },
     "execution_count": 98,
     "metadata": {},
     "output_type": "execute_result"
    }
   ],
   "source": [
    "values = []\n",
    "for v in df['factor_rend_densidad_pl_m2'].values:\n",
    "    if isinstance(v, str):\n",
    "        if not v.isalnum():\n",
    "            values.append(v)\n",
    "\n",
    "pd.Series(values).value_counts()"
   ]
  },
  {
   "cell_type": "code",
   "execution_count": 99,
   "metadata": {
    "collapsed": false
   },
   "outputs": [
    {
     "name": "stdout",
     "output_type": "stream",
     "text": [
      "fenologia_emerg_dpf_dias\n",
      "riego_velocidad_dias\n",
      "riego_emerg_lote_completo_dias\n",
      "fenologia_emerg_flor_50pct_dias\n",
      "fenologia_emerg_cosecha_dias\n"
     ]
    }
   ],
   "source": [
    "for c in df.columns:\n",
    "    if 'dias' in c:\n",
    "        print c"
   ]
  },
  {
   "cell_type": "code",
   "execution_count": 100,
   "metadata": {
    "collapsed": true
   },
   "outputs": [],
   "source": [
    "df['dias_siembra_cosecha'] = (df['fenologia_cosecha_fecha'] - df['fenologia_siembra_fecha']).apply(\n",
    "    lambda dt: dt / np.timedelta64(24, 'h'))"
   ]
  },
  {
   "cell_type": "code",
   "execution_count": 101,
   "metadata": {
    "collapsed": true
   },
   "outputs": [],
   "source": [
    "# Crear variables del clima"
   ]
  },
  {
   "cell_type": "code",
   "execution_count": 102,
   "metadata": {
    "collapsed": false,
    "scrolled": true
   },
   "outputs": [
    {
     "data": {
      "text/html": [
       "<div style=\"max-height:1000px;max-width:1500px;overflow:auto;\">\n",
       "<table border=\"1\" class=\"dataframe\">\n",
       "  <thead>\n",
       "    <tr style=\"text-align: right;\">\n",
       "      <th></th>\n",
       "      <th>ESOL</th>\n",
       "      <th>RAIN</th>\n",
       "      <th>RHUM</th>\n",
       "      <th>TMAX</th>\n",
       "      <th>TMIN</th>\n",
       "    </tr>\n",
       "    <tr>\n",
       "      <th>Date</th>\n",
       "      <th></th>\n",
       "      <th></th>\n",
       "      <th></th>\n",
       "      <th></th>\n",
       "      <th></th>\n",
       "    </tr>\n",
       "  </thead>\n",
       "  <tbody>\n",
       "    <tr>\n",
       "      <th>2006-01-01</th>\n",
       "      <td>22.4</td>\n",
       "      <td>0</td>\n",
       "      <td>60</td>\n",
       "      <td>29.5</td>\n",
       "      <td>19</td>\n",
       "    </tr>\n",
       "    <tr>\n",
       "      <th>2006-01-02</th>\n",
       "      <td>24.3</td>\n",
       "      <td>0</td>\n",
       "      <td>76</td>\n",
       "      <td>37.2</td>\n",
       "      <td>21</td>\n",
       "    </tr>\n",
       "    <tr>\n",
       "      <th>2006-01-03</th>\n",
       "      <td>20.0</td>\n",
       "      <td>0</td>\n",
       "      <td>63</td>\n",
       "      <td>34.2</td>\n",
       "      <td>17</td>\n",
       "    </tr>\n",
       "  </tbody>\n",
       "</table>\n",
       "</div>"
      ],
      "text/plain": [
       "            ESOL  RAIN  RHUM  TMAX  TMIN\n",
       "Date                                    \n",
       "2006-01-01  22.4     0    60  29.5    19\n",
       "2006-01-02  24.3     0    76  37.2    21\n",
       "2006-01-03  20.0     0    63  34.2    17"
      ]
     },
     "execution_count": 102,
     "metadata": {},
     "output_type": "execute_result"
    }
   ],
   "source": [
    "clima = pd.read_csv('datos/clima_datos_unidos.csv', index_col='Date')\n",
    "clima.head(3)"
   ]
  },
  {
   "cell_type": "code",
   "execution_count": null,
   "metadata": {
    "collapsed": true
   },
   "outputs": [],
   "source": []
  }
 ],
 "metadata": {
  "kernelspec": {
   "display_name": "Python 2",
   "language": "python",
   "name": "python2"
  },
  "language_info": {
   "codemirror_mode": {
    "name": "ipython",
    "version": 2
   },
   "file_extension": ".py",
   "mimetype": "text/x-python",
   "name": "python",
   "nbconvert_exporter": "python",
   "pygments_lexer": "ipython2",
   "version": "2.7.6"
  }
 },
 "nbformat": 4,
 "nbformat_minor": 0
}
