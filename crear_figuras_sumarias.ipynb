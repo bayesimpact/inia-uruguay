{
 "cells": [
  {
   "cell_type": "code",
   "execution_count": 41,
   "metadata": {
    "collapsed": true
   },
   "outputs": [],
   "source": [
    "CSV_IN = 'datos/Base datos_INTA_ascii_limpio.csv'"
   ]
  },
  {
   "cell_type": "code",
   "execution_count": 42,
   "metadata": {
    "collapsed": false
   },
   "outputs": [
    {
     "name": "stdout",
     "output_type": "stream",
     "text": [
      "Cargando datos de \"datos/Base datos_INTA_ascii_limpio.csv\"\n",
      "Cargado dataframe de tamaño 423 x 35\n"
     ]
    }
   ],
   "source": [
    "print 'Cargando datos de \"%s\"' % CSV_IN\n",
    "df = pd.read_csv(CSV_IN)\n",
    "print 'Cargado dataframe de tamaño %d x %d' % df.shape"
   ]
  },
  {
   "cell_type": "code",
   "execution_count": 43,
   "metadata": {
    "collapsed": false
   },
   "outputs": [
    {
     "data": {
      "text/plain": [
       "2011                 17.49%\n",
       "2012                 14.89%\n",
       "2014                 13.00%\n",
       "2009                 12.77%\n",
       "2008                 12.53%\n",
       "[OTROS] (3 tipos)    29.31%\n",
       "[NA (0%)]             0.00%\n",
       "dtype: object"
      ]
     },
     "execution_count": 43,
     "metadata": {},
     "output_type": "execute_result"
    }
   ],
   "source": [
    "# Estos son funciones para hacer cuentas claras y minimalistas\n",
    "\n",
    "def truncate_str(s, n=15):\n",
    "    s = str(s)\n",
    "    if len(s) > n:\n",
    "        return s[:(n-3)] + '...'\n",
    "    else:\n",
    "        return s\n",
    "\n",
    "def smart_value_counts(s, top=10, normalize=True, percent=False):\n",
    "    vc = s.value_counts(ascending=False, normalize=normalize)\n",
    "    vc.index = [truncate_str(i) for i in vc.index]\n",
    "    out = vc[:top]\n",
    "    if vc.sum() > out.sum():\n",
    "        other = pd.Series([vc.sum() - out.sum()], index=['[OTROS] (%d tipos)' % (len(vc) - len(out))])\n",
    "        out = out.append(other)\n",
    "    na = 1.0 - vc.sum()\n",
    "    out = out.append(pd.Series([na], index=['[NA (%.0f%%)]' % (na * 100)]))\n",
    "    if percent:\n",
    "        return out.apply(lambda p: '%.2f%%' % (p*100))\n",
    "    return out\n",
    "\n",
    "smart_value_counts(df['campana'], top=5, normalize=True, percent=True)"
   ]
  },
  {
   "cell_type": "code",
   "execution_count": 44,
   "metadata": {
    "collapsed": true
   },
   "outputs": [],
   "source": [
    "# df.describe()"
   ]
  },
  {
   "cell_type": "code",
   "execution_count": 45,
   "metadata": {
    "collapsed": false
   },
   "outputs": [
    {
     "data": {
      "text/plain": [
       "2011         0.174941\n",
       "2012         0.148936\n",
       "2014         0.130024\n",
       "2009         0.127660\n",
       "2008         0.125296\n",
       "2010         0.101655\n",
       "2006         0.101655\n",
       "2007         0.089835\n",
       "[NA (0%)]    0.000000\n",
       "dtype: float64"
      ]
     },
     "execution_count": 45,
     "metadata": {},
     "output_type": "execute_result"
    }
   ],
   "source": [
    "smart_value_counts(df['campana'])"
   ]
  },
  {
   "cell_type": "code",
   "execution_count": 46,
   "metadata": {
    "collapsed": false
   },
   "outputs": [],
   "source": [
    "try:\n",
    "    os.mkdir('figuras/explorar/')\n",
    "except OSError:\n",
    "    pass\n",
    "\n",
    "def figura_hist(s, fig, ax, figname):\n",
    "    s = s.astype(float)\n",
    "    s.hist(ax=ax, color=COLOR_HIST, weights=np.zeros(s.count()) + 1. / len(s),\n",
    "           alpha=BAR_ALPHA)\n",
    "    ax.set_yticklabels(['%.0f%%' % (t*100) for t in ax.get_yticks()])\n",
    "    ax.set_title(c)\n",
    "    na = 1.0 - float(s.count()) / len(s)\n",
    "    ax.plot([min(ax.get_xticks()), max(ax.get_xticks())], [na, na],\n",
    "            color=COLOR_NA, label='NA (%.0f%%)' % (na * 100), alpha=0.8,\n",
    "            linestyle='--')\n",
    "    ax.legend(loc='upper right')\n",
    "    if RUGPLOT:\n",
    "        sns.rugplot(s, color=COLOR_HIST, alpha=1.0, ax=ax)\n",
    "    fig.savefig('figuras/explorar/hist_%s.png' % figname)\n",
    "\n",
    "def figura_bar(s, fig, ax, figname):\n",
    "    s = smart_value_counts(s)\n",
    "    s[::-1].plot(ax=ax, kind='barh', color=[COLOR_NA] +\n",
    "                 [COLOR_BAR]*(len(s) - 1), alpha=BAR_ALPHA)\n",
    "    ax.set_xticklabels(['%.0f%%' % (t*100) for t in ax.get_xticks()])\n",
    "    fig.savefig('figuras/explorar/bar_%s.png' % figname)"
   ]
  },
  {
   "cell_type": "code",
   "execution_count": 47,
   "metadata": {
    "collapsed": false
   },
   "outputs": [
    {
     "name": "stdout",
     "output_type": "stream",
     "text": [
      "[1/35] analisis_suelo_k (float)\n",
      "[2/35] analisis_suelo_n (float)\n",
      "[3/35] analisis_suelo_p (float)\n",
      "[4/35] campana (float)\n",
      "[5/35] cultivo_antecesor (categorico)\n",
      "[6/35] densidad_siembra_kg_ha (float)\n",
      "[7/35] factor_rend_densidad_pl_m2 (categorico)\n",
      "[8/35] factor_rend_pctfactor (float)\n",
      "[9/35] factor_rend_pcthcosecha (float)\n",
      "[10/35] fenologia_cosecha_fecha (categorico)\n",
      "[11/35] fenologia_dpf_fecha (categorico)\n",
      "[12/35] fenologia_emerg_cosecha_dias (float)\n",
      "[13/35] fenologia_emerg_dpf_dias (float)\n",
      "[14/35] fenologia_emerg_flor_50pct_dias (float)\n",
      "[15/35] fenologia_emergencia_70pct_fecha (categorico)\n",
      "[16/35] fenologia_flor_50pct_fecha (categorico)\n",
      "[17/35] fenologia_siembra_fecha (categorico)\n",
      "[18/35] fert_cober_clk_cant_kg_ha (float)\n",
      "[19/35] fert_cober_dpf_cant_n_kg_ha (float)\n",
      "[20/35] fert_cober_dpf_fecha (categorico)\n",
      "[21/35] fert_cober_preriego_cant_n_kg_ha (float)\n",
      "[22/35] fert_cober_preriego_fecha (categorico)\n",
      "[23/35] fert_cober_preriego_formulado (categorico)\n",
      "[24/35] id (categorico)\n",
      "[25/35] rendimiento_seco_kg_ha (float)\n",
      "[26/35] riego_chacra_completa_fecha (categorico)\n",
      "[27/35] riego_emerg_lote_completo_dias (float)\n",
      "[28/35] riego_finalizacion_fecha (categorico)\n",
      "[29/35] riego_inicio_fecha (categorico)\n",
      "[30/35] riego_velocidad_dias (float)\n",
      "[31/35] rinde_con_factor_kg_ha (float)\n",
      "[32/35] sector (categorico)\n",
      "[33/35] sistema_laboreo (categorico)\n",
      "[34/35] superficie_has (float)\n",
      "[35/35] variedad (categorico)\n",
      "Columnos: [18 numericos, 17 categoricos, 0 saltados (vacios), 35 total]\n"
     ]
    }
   ],
   "source": [
    "# Creamos una figura por cada columno, sumarizandolo visualmente\n",
    "\n",
    "# Configuraction visual\n",
    "COLOR_HIST = sns.color_palette()[0]\n",
    "COLOR_BAR = sns.color_palette()[1]\n",
    "COLOR_NA = (.8, .2, .2)\n",
    "BAR_ALPHA = 0.8\n",
    "RUGPLOT = False\n",
    "\n",
    "saltados, numericos = 0, 0\n",
    "for i, c in enumerate(sorted(df.columns)):\n",
    "    if df[c].count() == 0:\n",
    "        print '**SALTANDO \"%s\"** (todos NA)' % c\n",
    "        saltados += 1\n",
    "        continue\n",
    "    print '[%d/%d] %s' % (i+1, len(df.columns), c),\n",
    "    \n",
    "    fig, ax = plt.subplots(1)\n",
    "    fig.subplots_adjust(left=0.2)\n",
    "    ax.set_title(c)\n",
    "    s = df[c]\n",
    "    figname = ''.join([ch for ch in c.lower().replace(' ', '_')\n",
    "                       if ch.isalnum() or ch in ('_-')])\n",
    "    try:\n",
    "        figura_hist(s, fig, ax, figname)\n",
    "        numericos += 1\n",
    "        print '(float)'\n",
    "    except ValueError:\n",
    "        figura_bar(s, fig, ax, figname)\n",
    "        print '(categorico)'\n",
    "    plt.close()\n",
    "\n",
    "print 'Columnos: [%d numericos, %d categoricos, %d saltados (vacios), %d total]' % (\n",
    "    numericos, len(df.columns) - numericos - saltados, saltados, len(df.columns))"
   ]
  },
  {
   "cell_type": "code",
   "execution_count": 48,
   "metadata": {
    "collapsed": false
   },
   "outputs": [
    {
     "name": "stdout",
     "output_type": "stream",
     "text": [
      "clima_esol\n",
      "clima_rain\n",
      "clima_rhum\n",
      "clima_tmax\n",
      "clima_tmin\n"
     ]
    }
   ],
   "source": [
    "clima = pd.read_csv('datos/clima_datos_unidos.csv', index_col='Date')\n",
    "for c in clima.columns:\n",
    "    figname = 'clima_' + c.lower()\n",
    "    print figname\n",
    "    fig, ax = plt.subplots(1)\n",
    "    fig.subplots_adjust(left=0.2)\n",
    "    ax.set_title(c)\n",
    "    s = clima[c]\n",
    "    figura_hist(s, fig, ax, figname)\n",
    "    plt.close()"
   ]
  },
  {
   "cell_type": "code",
   "execution_count": null,
   "metadata": {
    "collapsed": true
   },
   "outputs": [],
   "source": []
  }
 ],
 "metadata": {
  "kernelspec": {
   "display_name": "Python 2",
   "language": "python",
   "name": "python2"
  },
  "language_info": {
   "codemirror_mode": {
    "name": "ipython",
    "version": 2
   },
   "file_extension": ".py",
   "mimetype": "text/x-python",
   "name": "python",
   "nbconvert_exporter": "python",
   "pygments_lexer": "ipython2",
   "version": "2.7.6"
  }
 },
 "nbformat": 4,
 "nbformat_minor": 0
}
